{
 "cells": [
  {
   "cell_type": "markdown",
   "metadata": {},
   "source": [
    "# Демонстрация к первой задаче \"IPython Notebook\""
   ]
  },
  {
   "cell_type": "markdown",
   "metadata": {},
   "source": [
    "## Загрузка необходимых библиотек\n",
    "\n",
    "Для работы нам понадобятся две библиотеки:\n",
    "1. `pandas`: при помощи нее мы считаем из файла таблицу с данными\n",
    "2. `sklearn`: библиотека для машинного обучения, из нее нам понадобится модуль `tree` для работы с решающими деревьями"
   ]
  },
  {
   "cell_type": "code",
   "execution_count": 2,
   "metadata": {},
   "outputs": [],
   "source": [
    "import pandas\n",
    "from sklearn import tree"
   ]
  },
  {
   "cell_type": "markdown",
   "metadata": {},
   "source": [
    "## Чтение данных из CSV файла"
   ]
  },
  {
   "cell_type": "code",
   "execution_count": 3,
   "metadata": {},
   "outputs": [],
   "source": [
    "table = pandas.read_csv('weather.csv')"
   ]
  },
  {
   "cell_type": "markdown",
   "metadata": {},
   "source": [
    "Посмотреть на первые строчки таблицы можно при помощи метода `head()`:"
   ]
  },
  {
   "cell_type": "code",
   "execution_count": 4,
   "metadata": {},
   "outputs": [
    {
     "data": {
      "text/html": [
       "<div>\n",
       "<style scoped>\n",
       "    .dataframe tbody tr th:only-of-type {\n",
       "        vertical-align: middle;\n",
       "    }\n",
       "\n",
       "    .dataframe tbody tr th {\n",
       "        vertical-align: top;\n",
       "    }\n",
       "\n",
       "    .dataframe thead th {\n",
       "        text-align: right;\n",
       "    }\n",
       "</style>\n",
       "<table border=\"1\" class=\"dataframe\">\n",
       "  <thead>\n",
       "    <tr style=\"text-align: right;\">\n",
       "      <th></th>\n",
       "      <th>datetime</th>\n",
       "      <th>humidity</th>\n",
       "      <th>pressure</th>\n",
       "      <th>temperature</th>\n",
       "      <th>wind_direction</th>\n",
       "      <th>wind_speed</th>\n",
       "      <th>label</th>\n",
       "    </tr>\n",
       "  </thead>\n",
       "  <tbody>\n",
       "    <tr>\n",
       "      <th>0</th>\n",
       "      <td>2015-06-28 23:00:00</td>\n",
       "      <td>60</td>\n",
       "      <td>1007</td>\n",
       "      <td>294.480</td>\n",
       "      <td>260</td>\n",
       "      <td>3</td>\n",
       "      <td>rain</td>\n",
       "    </tr>\n",
       "    <tr>\n",
       "      <th>1</th>\n",
       "      <td>2015-06-22 21:00:00</td>\n",
       "      <td>47</td>\n",
       "      <td>1024</td>\n",
       "      <td>301.300</td>\n",
       "      <td>297</td>\n",
       "      <td>2</td>\n",
       "      <td>clear</td>\n",
       "    </tr>\n",
       "    <tr>\n",
       "      <th>2</th>\n",
       "      <td>2015-06-23 00:00:00</td>\n",
       "      <td>48</td>\n",
       "      <td>1024</td>\n",
       "      <td>299.894</td>\n",
       "      <td>309</td>\n",
       "      <td>1</td>\n",
       "      <td>clear</td>\n",
       "    </tr>\n",
       "    <tr>\n",
       "      <th>3</th>\n",
       "      <td>2015-06-19 20:00:00</td>\n",
       "      <td>88</td>\n",
       "      <td>1023</td>\n",
       "      <td>295.710</td>\n",
       "      <td>332</td>\n",
       "      <td>2</td>\n",
       "      <td>rain</td>\n",
       "    </tr>\n",
       "    <tr>\n",
       "      <th>4</th>\n",
       "      <td>2015-06-20 21:00:00</td>\n",
       "      <td>97</td>\n",
       "      <td>1027</td>\n",
       "      <td>292.926</td>\n",
       "      <td>131</td>\n",
       "      <td>2</td>\n",
       "      <td>rain</td>\n",
       "    </tr>\n",
       "  </tbody>\n",
       "</table>\n",
       "</div>"
      ],
      "text/plain": [
       "              datetime  humidity  pressure  temperature  wind_direction  \\\n",
       "0  2015-06-28 23:00:00        60      1007      294.480             260   \n",
       "1  2015-06-22 21:00:00        47      1024      301.300             297   \n",
       "2  2015-06-23 00:00:00        48      1024      299.894             309   \n",
       "3  2015-06-19 20:00:00        88      1023      295.710             332   \n",
       "4  2015-06-20 21:00:00        97      1027      292.926             131   \n",
       "\n",
       "   wind_speed  label  \n",
       "0           3   rain  \n",
       "1           2  clear  \n",
       "2           1  clear  \n",
       "3           2   rain  \n",
       "4           2   rain  "
      ]
     },
     "execution_count": 4,
     "metadata": {},
     "output_type": "execute_result"
    }
   ],
   "source": [
    "table.head()"
   ]
  },
  {
   "cell_type": "markdown",
   "metadata": {},
   "source": [
    "## Формируем обучающую выборку\n",
    "\n",
    "Алгоритмы машинного обучения получают на вход выборку, которая представлена матрицей `X` (ее строчки соответствуют примерам, столбцы — признакам) и вектором `y` из правильных овтетов."
   ]
  },
  {
   "cell_type": "code",
   "execution_count": 5,
   "metadata": {},
   "outputs": [],
   "source": [
    "X = table.loc[:, ['humidity', 'pressure']]\n",
    "y = table['label']"
   ]
  },
  {
   "cell_type": "markdown",
   "metadata": {},
   "source": [
    "## Обучение классификатора\n",
    "\n",
    "Для этого необходимо создать объект классификатора, в нашем случае — `DecisionTreeClassifier`. Указать при создании все необходимые параметры. Вызвать метод `fit` (что в переводе с английского — обучить, подстроить), передав ему обучающую выборку."
   ]
  },
  {
   "cell_type": "code",
   "execution_count": 8,
   "metadata": {},
   "outputs": [
    {
     "data": {
      "text/plain": [
       "DecisionTreeClassifier(class_weight=None, criterion='gini', max_depth=5,\n",
       "            max_features=None, max_leaf_nodes=None,\n",
       "            min_impurity_decrease=0.0, min_impurity_split=None,\n",
       "            min_samples_leaf=1, min_samples_split=2,\n",
       "            min_weight_fraction_leaf=0.0, presort=False, random_state=None,\n",
       "            splitter='best')"
      ]
     },
     "execution_count": 8,
     "metadata": {},
     "output_type": "execute_result"
    }
   ],
   "source": [
    "classifier = tree.DecisionTreeClassifier(max_depth=5)\n",
    "classifier.fit(X, y)"
   ]
  },
  {
   "cell_type": "markdown",
   "metadata": {},
   "source": [
    "## Построение предсказания по новым данным\n",
    "\n",
    "После того как классификатор обучен, можно использовать его метод `predict(X)`, который принимает на вход матрицу с признаковыми описаниями новых примеров."
   ]
  },
  {
   "cell_type": "code",
   "execution_count": 9,
   "metadata": {},
   "outputs": [
    {
     "name": "stdout",
     "output_type": "stream",
     "text": [
      "['clear']\n"
     ]
    }
   ],
   "source": [
    "prediction = classifier.predict([[70, 1027]])\n",
    "print(prediction)"
   ]
  },
  {
   "cell_type": "markdown",
   "metadata": {},
   "source": [
    "В результате получаем вектор (список) из предсказанных ответов. Поскольку в матрице был передан всего один пример, то и выходной список состоит из одного элемента."
   ]
  }
 ],
 "metadata": {
  "kernelspec": {
   "display_name": "Python 3",
   "language": "python",
   "name": "python3"
  },
  "language_info": {
   "codemirror_mode": {
    "name": "ipython",
    "version": 3
   },
   "file_extension": ".py",
   "mimetype": "text/x-python",
   "name": "python",
   "nbconvert_exporter": "python",
   "pygments_lexer": "ipython3",
   "version": "3.6.4"
  }
 },
 "nbformat": 4,
 "nbformat_minor": 2
}
